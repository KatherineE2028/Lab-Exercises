{
 "cells": [
  {
   "cell_type": "code",
   "execution_count": 4,
   "id": "64062d94-e1f3-471f-a118-442229e76c4f",
   "metadata": {},
   "outputs": [
    {
     "name": "stdin",
     "output_type": "stream",
     "text": [
      "Enter your name:  k\n",
      "Enter a number:  k\n",
      "Please enter a valid number. 5\n"
     ]
    }
   ],
   "source": [
    "name = input(\"Enter your name: \")\n",
    "\n",
    "number_input = input(\"Enter a number: \")\n",
    "try:\n",
    "    number = float(number_input)  \n",
    "except ValueError:\n",
    "    print(\"Please enter a valid number.\")\n",
    "else:\n",
    "    squared_number = number ** 2\n",
    "\n",
    "    print(f\"Hello, {name}! The square of {number} is {squared_number}.\")\n",
    "\n"
   ]
  },
  {
   "cell_type": "code",
   "execution_count": null,
   "id": "7886887f-9f99-4602-891f-3f4ed0d1e899",
   "metadata": {},
   "outputs": [],
   "source": []
  }
 ],
 "metadata": {
  "kernelspec": {
   "display_name": "Python 3 (ipykernel)",
   "language": "python",
   "name": "python3"
  },
  "language_info": {
   "codemirror_mode": {
    "name": "ipython",
    "version": 3
   },
   "file_extension": ".py",
   "mimetype": "text/x-python",
   "name": "python",
   "nbconvert_exporter": "python",
   "pygments_lexer": "ipython3",
   "version": "3.12.4"
  }
 },
 "nbformat": 4,
 "nbformat_minor": 5
}
